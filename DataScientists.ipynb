{
 "cells": [
  {
   "cell_type": "markdown",
   "metadata": {},
   "source": [
    "# Scrape Twitter"
   ]
  },
  {
   "cell_type": "code",
   "execution_count": null,
   "metadata": {
    "collapsed": true
   },
   "outputs": [],
   "source": [
    "sys.path.append('''/usr/lib/python3.4/site-packages/''')\n",
    "from bs4 import BeautifulSoup\n",
    "sys.path.append(\"/home/MZ/anaconda2/lib/python3.5/site-packages/ezodf\")\n",
    "import ezodf\n",
    "import lxml\n",
    "import pandas as pd\n",
    "import random\n",
    "import re\n",
    "import requests\n",
    "import sys\n",
    "import time"
   ]
  },
  {
   "cell_type": "code",
   "execution_count": null,
   "metadata": {
    "collapsed": false
   },
   "outputs": [],
   "source": [
    "spreadsheet = ezodf.opendoc('PEOPLE.ods')\n",
    "table = spreadsheet.sheets['DATA SCIENTISTS']\n",
    "rows = list(table.rows())\n",
    "reader = [[str(c.value) if str(c.value)[-2:] != '.0' else str(c.value)[:-2] for c in r] for r in rows]\n",
    "df = pd.DataFrame(reader[1:], columns=reader[0])\n",
    "urls = list(df['TWITTER'][10:20])"
   ]
  },
  {
   "cell_type": "code",
   "execution_count": null,
   "metadata": {
    "collapsed": false
   },
   "outputs": [],
   "source": [
    "pat_bio = '''dir=\"ltr\">(.+)?</p>'''\n",
    "# pat_location\n",
    "# pat_link\n",
    "# pat_joined\n",
    "# pat_tweets\n",
    "# pat_following\n",
    "# pat_followers\n",
    "# pat_likes\n",
    "# pat_lists\n",
    "\n",
    "for u in urls:\n",
    "    print()\n",
    "    t = requests.get(u).text\n",
    "    print(BeautifulSoup(re.search(pat_bio, t).group(1)).getText())\n",
    "    print(u)\n",
    "    time.sleep(random.choice([1, 2, 3]))"
   ]
  },
  {
   "cell_type": "code",
   "execution_count": null,
   "metadata": {
    "collapsed": true
   },
   "outputs": [],
   "source": []
  }
 ],
 "metadata": {
  "kernelspec": {
   "display_name": "Python 3",
   "language": "python",
   "name": "python3"
  },
  "language_info": {
   "codemirror_mode": {
    "name": "ipython",
    "version": 3
   },
   "file_extension": ".py",
   "mimetype": "text/x-python",
   "name": "python",
   "nbconvert_exporter": "python",
   "pygments_lexer": "ipython3",
   "version": "3.5.2"
  }
 },
 "nbformat": 4,
 "nbformat_minor": 0
}
